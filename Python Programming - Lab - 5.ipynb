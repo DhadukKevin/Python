{
 "cells": [
  {
   "cell_type": "markdown",
   "metadata": {},
   "source": [
    "\n",
    "<a href='https://www.darshan.ac.in/'> <img src='https://www.darshan.ac.in/Content/media/DU_Logo.svg' width=\"250\" height=\"300\"/></a>\n",
    "<pre>\n",
    "<center><b><h1>Python Programming - 2101CS405</b></center>\n",
    "<center><b><h1>Lab - 5</b></center>    \n",
    "<pre>"
   ]
  },
  {
   "cell_type": "markdown",
   "metadata": {},
   "source": [
    "# list"
   ]
  },
  {
   "cell_type": "markdown",
   "metadata": {},
   "source": [
    "### 01) WAP to find sum of all the elements in List."
   ]
  },
  {
   "cell_type": "code",
   "execution_count": 1,
   "metadata": {},
   "outputs": [
    {
     "name": "stdout",
     "output_type": "stream",
     "text": [
      "55\n"
     ]
    }
   ],
   "source": [
    "s=[1,2,3,4,5,6,7,8,9,10]\n",
    "sum=0\n",
    "for i in s:\n",
    "    sum=sum+i\n",
    "print(sum)"
   ]
  },
  {
   "cell_type": "markdown",
   "metadata": {},
   "source": [
    "### 02) WAP to find largest element in a List."
   ]
  },
  {
   "cell_type": "code",
   "execution_count": 1,
   "metadata": {},
   "outputs": [
    {
     "name": "stdout",
     "output_type": "stream",
     "text": [
      "10\n"
     ]
    }
   ],
   "source": [
    "s=[1,2,3,4,5,6,7,8,9,10]\n",
    "a=max(s)\n",
    "print(a)"
   ]
  },
  {
   "cell_type": "markdown",
   "metadata": {},
   "source": [
    "### 03) WAP to split the List into two and append the first part to the end."
   ]
  },
  {
   "cell_type": "code",
   "execution_count": 3,
   "metadata": {},
   "outputs": [
    {
     "name": "stdout",
     "output_type": "stream",
     "text": [
      "[6, 7, 8, 9, 10, 11, 1, 2, 3, 4, 5]\n"
     ]
    }
   ],
   "source": [
    "s=[1,2,3,4,5,6,7,8,9,10]\n",
    "a=s[0:len(s)//2]\n",
    "b=s[len(s)//2:len(s)]\n",
    "b.extend(a)\n",
    "print(b)"
   ]
  },
  {
   "cell_type": "markdown",
   "metadata": {},
   "source": [
    "### 04) WAP to interchange first and last elements in list entered by a user."
   ]
  },
  {
   "cell_type": "code",
   "execution_count": 7,
   "metadata": {},
   "outputs": [
    {
     "name": "stdout",
     "output_type": "stream",
     "text": [
      "[5, 2, 3, 4, 1]\n"
     ]
    }
   ],
   "source": [
    "s=[]\n",
    "for i in range(0,5):\n",
    "    s.append(int(input('Enter N')))\n",
    "a=s[0]\n",
    "b=s[-1]\n",
    "s[0]=b\n",
    "s[-1]=a\n",
    "print(s)"
   ]
  },
  {
   "cell_type": "markdown",
   "metadata": {},
   "source": [
    "### 05) WAP to interchange the elements on two positions entered by a user."
   ]
  },
  {
   "cell_type": "code",
   "execution_count": 8,
   "metadata": {},
   "outputs": [
    {
     "name": "stdout",
     "output_type": "stream",
     "text": [
      "[1, 2, 3, 7, 5, 6, 4, 8, 9, 10]\n"
     ]
    }
   ],
   "source": [
    "s=[1,2,3,4,5,6,7,8,9,10]\n",
    "a=int(input(\"enter position\"))\n",
    "b=int(input(\"enter position\"))\n",
    "t=s[a]\n",
    "s[a]=s[b]\n",
    "s[b]=t\n",
    "print(s)\n"
   ]
  },
  {
   "cell_type": "markdown",
   "metadata": {},
   "source": [
    "### 06) WAP to reverses the list entered by user."
   ]
  },
  {
   "cell_type": "code",
   "execution_count": 9,
   "metadata": {},
   "outputs": [
    {
     "name": "stdout",
     "output_type": "stream",
     "text": [
      "[5, 4, 3, 2, 1]\n"
     ]
    }
   ],
   "source": [
    "s=[]\n",
    "for i in range(0,5):\n",
    "    s.append(int(input('Enter N')))\n",
    "print(s[::-1])"
   ]
  },
  {
   "cell_type": "markdown",
   "metadata": {},
   "source": [
    "### 07) Python program to remove multiple elements from a list using list comprehension"
   ]
  },
  {
   "cell_type": "code",
   "execution_count": 11,
   "metadata": {},
   "outputs": [
    {
     "name": "stdout",
     "output_type": "stream",
     "text": [
      "List after removing elements  [2, 14]\n"
     ]
    }
   ],
   "source": [
    "li=[]\n",
    "n=int(input(\"Enter size of list \"))\n",
    "for i in range(0,n):\n",
    "    li.append(int(input(\"Enter element of list \")))\n",
    "\n",
    "li=[num for num in li if num%5!=0]\n",
    "\n",
    "print(\"List after removing elements \",li)"
   ]
  },
  {
   "attachments": {},
   "cell_type": "markdown",
   "metadata": {},
   "source": [
    "### 08) Create a list from the specified start to end index of another list."
   ]
  },
  {
   "cell_type": "code",
   "execution_count": 14,
   "metadata": {},
   "outputs": [
    {
     "name": "stdout",
     "output_type": "stream",
     "text": [
      "[3, 4, 5, 6]\n"
     ]
    }
   ],
   "source": [
    "s=[1,2,3,4,5,6,7,8,9,10]\n",
    "a=int(input(\"enter position\"))\n",
    "b=int(input(\"enter position\"))\n",
    "s1=s[a:b+1:]\n",
    "print(s1)\n"
   ]
  },
  {
   "cell_type": "markdown",
   "metadata": {},
   "source": [
    "### 09) Input comma separated elements, convert into list and print."
   ]
  },
  {
   "cell_type": "code",
   "execution_count": 15,
   "metadata": {},
   "outputs": [
    {
     "name": "stdout",
     "output_type": "stream",
     "text": [
      "['1', '2', '3', '4', '5', '6', '7', '8']\n"
     ]
    }
   ],
   "source": [
    "x=input(\"Enter Comma Seprated values\")\n",
    "s=x.split(\",\")\n",
    "print(s)"
   ]
  },
  {
   "cell_type": "markdown",
   "metadata": {},
   "source": [
    "### 01) WAP to count Even and Odd numbers in a List."
   ]
  },
  {
   "cell_type": "code",
   "execution_count": 16,
   "metadata": {},
   "outputs": [
    {
     "name": "stdout",
     "output_type": "stream",
     "text": [
      "In list there are 3 odd numbers and 2 even numbers\n"
     ]
    }
   ],
   "source": [
    "li=[]\n",
    "o,e=0,0\n",
    "n=int(input(\"Enter size of list \"))\n",
    "for i in range(0,n):\n",
    "    li.append(int(input(\"Enter element of list \")))\n",
    "\n",
    "for i in li:\n",
    "    if i%2==0:\n",
    "        e+=1\n",
    "    else:\n",
    "        o+=1\n",
    "print(f\"In list there are {o} odd numbers and {e} even numbers\")"
   ]
  },
  {
   "cell_type": "markdown",
   "metadata": {},
   "source": [
    "### 02) Python program to find N largest and smallest elements from the list"
   ]
  },
  {
   "cell_type": "code",
   "execution_count": 11,
   "metadata": {},
   "outputs": [
    {
     "name": "stdout",
     "output_type": "stream",
     "text": [
      "[1, 2]\n",
      "[5, 4]\n"
     ]
    }
   ],
   "source": [
    "s=[]\n",
    "n=int(input(\"Enter size of list \"))\n",
    "for i in range(0,n):\n",
    "    s.append(int(input(\"Enter element of list \")))\n",
    "a=int(input(\"Enter Number to find largest\"))\n",
    "b=int(input(\"Enter Number to find smallest\"))\n",
    "s.sort()\n",
    "print(s[0:b:])\n",
    "print(s[-1:-a-1:-1])"
   ]
  },
  {
   "cell_type": "markdown",
   "metadata": {},
   "source": [
    "### 03) WAP to print duplicates from a list of integers"
   ]
  },
  {
   "cell_type": "code",
   "execution_count": 3,
   "metadata": {},
   "outputs": [
    {
     "name": "stdout",
     "output_type": "stream",
     "text": [
      "Duplicet Numbers Are : \n",
      "[2, 3]\n"
     ]
    }
   ],
   "source": [
    "s=[]\n",
    "li=[]\n",
    "n=int(input(\"Enter size of list \"))\n",
    "for i in range(0,n):\n",
    "    s.append(int(input(\"Enter element of list \")))\n",
    "print(\"Duplicet Numbers Are : \")\n",
    "for i in s:\n",
    "    if s.count(i) >= 2 and i not in li:\n",
    "        li.append(i)\n",
    "print(li)\n"
   ]
  }
 ],
 "metadata": {
  "kernelspec": {
   "display_name": "Python 3",
   "language": "python",
   "name": "python3"
  },
  "language_info": {
   "codemirror_mode": {
    "name": "ipython",
    "version": 3
   },
   "file_extension": ".py",
   "mimetype": "text/x-python",
   "name": "python",
   "nbconvert_exporter": "python",
   "pygments_lexer": "ipython3",
   "version": "3.11.0"
  },
  "vscode": {
   "interpreter": {
    "hash": "56d511f526c6216a56ec98a6aa3bfbe83beb5e9fedb00e02076d55aa3bccf957"
   }
  }
 },
 "nbformat": 4,
 "nbformat_minor": 4
}
