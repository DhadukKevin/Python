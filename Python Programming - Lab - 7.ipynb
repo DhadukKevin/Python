{
 "cells": [
  {
   "cell_type": "markdown",
   "metadata": {},
   "source": [
    "<a href='https://www.darshan.ac.in/'> <img src='https://www.darshan.ac.in/Content/media/DU_Logo.svg' width=\"250\" height=\"300\"/></a>\n",
    "<pre>\n",
    "<center><b><h1>Python Programming - 2101CS405</b></center>\n",
    "<center><b><h1>Lab - 7</b></center>    \n",
    "<pre>"
   ]
  },
  {
   "cell_type": "markdown",
   "metadata": {},
   "source": [
    "# Functions"
   ]
  },
  {
   "cell_type": "markdown",
   "metadata": {},
   "source": [
    "### 01) WAP to count simple interest using function."
   ]
  },
  {
   "cell_type": "code",
   "execution_count": 1,
   "metadata": {},
   "outputs": [
    {
     "name": "stdout",
     "output_type": "stream",
     "text": [
      "1000.0\n"
     ]
    }
   ],
   "source": [
    "def intrest(p,r,n):\n",
    "    return (p*r*n)/100\n",
    "\n",
    "p=int(input(\"Enter P : \"))\n",
    "r=int(input(\"Enter R : \"))\n",
    "n=int(input(\"Enter N : \"))\n",
    "print(intrest(p,r,n))"
   ]
  },
  {
   "cell_type": "markdown",
   "metadata": {},
   "source": [
    "### 02) WAP that defines a function to add first n numbers."
   ]
  },
  {
   "cell_type": "code",
   "execution_count": 2,
   "metadata": {},
   "outputs": [
    {
     "name": "stdout",
     "output_type": "stream",
     "text": [
      "sum of first 10 number is 55\n"
     ]
    }
   ],
   "source": [
    "def add_numbers(n):\n",
    "    sum=0\n",
    "    for i in range(1,n+1):\n",
    "        sum+=i\n",
    "    return sum\n",
    "n=int(input(\"Enter N : \"))\n",
    "print(f\"sum of first {n} number is {add_numbers(n)}\")"
   ]
  },
  {
   "cell_type": "markdown",
   "metadata": {},
   "source": [
    "### 03) WAP to find maximum number from given two numbers using function."
   ]
  },
  {
   "cell_type": "code",
   "execution_count": 3,
   "metadata": {},
   "outputs": [
    {
     "name": "stdout",
     "output_type": "stream",
     "text": [
      "maximum number is 13\n"
     ]
    }
   ],
   "source": [
    "def maximum(a,b):\n",
    "    if a>b:\n",
    "        return a\n",
    "    else:\n",
    "        return b\n",
    "\n",
    "a=int(input(\"Enter a : \"))\n",
    "b=int(input(\"Enter b : \"))\n",
    "print(f\"maximum number is {maximum(a,b)}\")"
   ]
  },
  {
   "cell_type": "markdown",
   "metadata": {},
   "source": [
    "### 04) WAP that defines a function which returns 1 if the number is prime otherwise return 0."
   ]
  },
  {
   "cell_type": "code",
   "execution_count": 4,
   "metadata": {},
   "outputs": [
    {
     "name": "stdout",
     "output_type": "stream",
     "text": [
      "1\n"
     ]
    }
   ],
   "source": [
    "def prime(a):\n",
    "    for i in range(2,a):\n",
    "        if a%i==0:\n",
    "            return 0\n",
    "    else:\n",
    "        return 1\n",
    "a=int(input(\"Enter a : \"))\n",
    "print(prime(a))"
   ]
  },
  {
   "cell_type": "markdown",
   "metadata": {},
   "source": [
    "### 05) Write a function called primes that takes an integer value as an argument and returns a list of all prime numbers up to that number."
   ]
  },
  {
   "cell_type": "code",
   "execution_count": 22,
   "metadata": {},
   "outputs": [
    {
     "name": "stdout",
     "output_type": "stream",
     "text": [
      "[11, 13, 17, 19]\n"
     ]
    }
   ],
   "source": [
    "def primes(num,num1):\n",
    "    ls=[]\n",
    "    for n in range(num,num1+1):\n",
    "        for i in range(2,n):\n",
    "            if(n%i == 0):\n",
    "                break\n",
    "        else:\n",
    "            ls.append(n)\n",
    "    return ls\n",
    "a=int(input(\"Enter a : \"))\n",
    "b=int(input(\"Enter b : \"))\n",
    "print(primes(a,b))"
   ]
  },
  {
   "cell_type": "markdown",
   "metadata": {},
   "source": [
    "### 06) WAP to generate Fibonacci series of N given number using function name fibbo. (e.g. 0 1 1 2 3 5 8...)"
   ]
  },
  {
   "cell_type": "code",
   "execution_count": 18,
   "metadata": {},
   "outputs": [
    {
     "name": "stdout",
     "output_type": "stream",
     "text": [
      "[0, 1, 1, 2, 3, 5, 8, 13, 21, 34]\n"
     ]
    }
   ],
   "source": [
    "def fibbo(n):\n",
    "    ls=[]\n",
    "    a=0\n",
    "    b=1\n",
    "    ls.append(a)\n",
    "    ls.append(b)\n",
    "    for i in range(2,n):\n",
    "        f=a+b\n",
    "        a=b\n",
    "        b=f\n",
    "        ls.append(f)\n",
    "    return ls\n",
    "a=int(input(\"Enter a : \"))\n",
    "print(fibbo(a))\n"
   ]
  },
  {
   "cell_type": "markdown",
   "metadata": {},
   "source": [
    "### 07) WAP to find the factorial of a given number using recursion."
   ]
  },
  {
   "cell_type": "code",
   "execution_count": 27,
   "metadata": {},
   "outputs": [
    {
     "name": "stdout",
     "output_type": "stream",
     "text": [
      "Factorial of 5 is 120\n"
     ]
    }
   ],
   "source": [
    "def factorial(n):\n",
    "    if n<=1:\n",
    "        return 1\n",
    "    else:\n",
    "        return n*factorial(n-1)\n",
    "a=int(input(\"Enter a : \"))\n",
    "print(f\"Factorial of {a} is {factorial(a)}\")\n",
    "    "
   ]
  },
  {
   "cell_type": "markdown",
   "metadata": {},
   "source": [
    "### 08) WAP to implement simple calculator using lamda function."
   ]
  },
  {
   "cell_type": "code",
   "execution_count": 34,
   "metadata": {},
   "outputs": [
    {
     "name": "stdout",
     "output_type": "stream",
     "text": [
      "4 + 4 = 8\n"
     ]
    }
   ],
   "source": [
    "calc = lambda a,b,o : a+b if o=='+' else a-b if o=='-' else a*b if o=='*' else a/b if o=='/' else 0\n",
    "\n",
    "a=int(input(\"Enter a : \"))\n",
    "b=int(input(\"Enter b : \"))\n",
    "o=input(\"Enter Operator :\")\n",
    "print(f\"{a} {o} {b} = {calc(a,b,o)}\")"
   ]
  },
  {
   "cell_type": "markdown",
   "metadata": {},
   "source": [
    "### 09)Write a Python program that accepts a hyphen-separated sequence of words as input and prints the words in a hyphen-separated sequence after sorting them alphabetically\n",
    "Sample Items : green-red-yellow-black-white <br>\n",
    "Expected Result : black-green-red-white-yellow"
   ]
  },
  {
   "cell_type": "code",
   "execution_count": 44,
   "metadata": {},
   "outputs": [
    {
     "data": {
      "text/plain": [
       "'black-green-red-white-yellow'"
      ]
     },
     "execution_count": 44,
     "metadata": {},
     "output_type": "execute_result"
    }
   ],
   "source": [
    "def str_sort(string):\n",
    "  b = string.split('-')\n",
    "  b.sort()\n",
    "  c = '-'.join(b)\n",
    "  return c\n",
    "\n",
    "a = \"green-red-yellow-black-white\"\n",
    "str_sort(a)\n"
   ]
  },
  {
   "cell_type": "markdown",
   "metadata": {},
   "source": [
    "### 10) Write a python program to implement all function arguments type\n",
    "Positional arguments <Br>\n",
    "Default argument <Br>\n",
    "Keyword arguments (named arguments) <Br>\n",
    "Arbitrary arguments (variable-length arguments args and kwargs)"
   ]
  },
  {
   "cell_type": "code",
   "execution_count": 46,
   "metadata": {},
   "outputs": [
    {
     "name": "stdout",
     "output_type": "stream",
     "text": [
      "sum of first 1 to 10 number is 55\n"
     ]
    }
   ],
   "source": [
    "# Positional arguments\n",
    "\n",
    "def add_numbers(a,b):\n",
    "    sum=0\n",
    "    for i in range(a,b+1):\n",
    "        sum+=i\n",
    "    return sum\n",
    "a=int(input(\"Enter a : \"))\n",
    "b=int(input(\"Enter b : \"))\n",
    "print(f\"sum of first {a} to {b} number is {add_numbers(a,b)}\")"
   ]
  },
  {
   "cell_type": "code",
   "execution_count": 50,
   "metadata": {},
   "outputs": [
    {
     "name": "stdout",
     "output_type": "stream",
     "text": [
      "sum of first 10 number is 55\n"
     ]
    }
   ],
   "source": [
    "# Default arguments\n",
    "\n",
    "def add_numbers(b,a=1):\n",
    "    sum=0\n",
    "    for i in range(a,b+1):\n",
    "        sum+=i\n",
    "    return sum\n",
    "# a=int(input(\"Enter a : \"))\n",
    "b=int(input(\"Enter b : \"))\n",
    "print(f\"sum of first {b} number is {add_numbers(b)}\")"
   ]
  },
  {
   "cell_type": "code",
   "execution_count": null,
   "metadata": {},
   "outputs": [],
   "source": [
    "# KeyWords arguments\n",
    "\n",
    "def add_numbers(a,b):\n",
    "    sum=0\n",
    "    for i in range(a,b+1):\n",
    "        sum+=i\n",
    "    return sum\n",
    "a1=int(input(\"Enter a : \"))\n",
    "b1=int(input(\"Enter b : \"))\n",
    "print(f\"sum of first {a1} to {b1} number is {add_numbers(b=b1,a=a1)}\")"
   ]
  },
  {
   "cell_type": "code",
   "execution_count": 35,
   "metadata": {},
   "outputs": [
    {
     "name": "stdout",
     "output_type": "stream",
     "text": [
      "[10, 10]\n"
     ]
    }
   ],
   "source": [
    "# Variable Length arguments\n",
    "\n",
    "def add_numbers(* n):\n",
    "    ls=[]\n",
    "    for i in n:\n",
    "        sum=0\n",
    "        for j in i:\n",
    "            sum+=j\n",
    "        ls.append(sum)\n",
    "    return ls\n",
    "print(add_numbers([1,2,3,4],[1,2,3,4]))"
   ]
  },
  {
   "cell_type": "markdown",
   "metadata": {},
   "source": [
    "### 01) WAP to calculate power of a number using recursion."
   ]
  },
  {
   "cell_type": "code",
   "execution_count": 6,
   "metadata": {},
   "outputs": [
    {
     "name": "stdout",
     "output_type": "stream",
     "text": [
      "9^9 = 387420489\n"
     ]
    }
   ],
   "source": [
    "def power(x,y):\n",
    "    if y==1:\n",
    "        return x\n",
    "    elif y==0:\n",
    "        return 1\n",
    "    else:\n",
    "        return x*power(x,y-1)\n",
    "x=int(input(\"Enter x : \"))\n",
    "y=int(input(\"Enter y : \"))\n",
    "print(f\"{x}^{y} = {power(x,y)}\")"
   ]
  },
  {
   "cell_type": "markdown",
   "metadata": {},
   "source": [
    "### 02) WAP to count digits of a number using recursion."
   ]
  },
  {
   "cell_type": "code",
   "execution_count": 4,
   "metadata": {},
   "outputs": [
    {
     "name": "stdout",
     "output_type": "stream",
     "text": [
      "10\n"
     ]
    }
   ],
   "source": [
    "def countDigit(n):\n",
    "    if n == 0:\n",
    "        return 0\n",
    "    return 1 + countDigit(n // 10)\n",
    "    \n",
    "n=int(input(\"Enter N :\"))\n",
    "print(countDigit(n))"
   ]
  },
  {
   "attachments": {},
   "cell_type": "markdown",
   "metadata": {},
   "source": [
    "### 03) WAP to reverse an integer number using recursion."
   ]
  },
  {
   "cell_type": "code",
   "execution_count": 64,
   "metadata": {
    "tags": []
   },
   "outputs": [
    {
     "name": "stdout",
     "output_type": "stream",
     "text": [
      "321\n"
     ]
    }
   ],
   "source": [
    "a,b=0,1\n",
    "def reverse(n):\n",
    "    global a\n",
    "    global b\n",
    "    if n>0:\n",
    "        reverse(n//10)\n",
    "        a+=(n%10)*b\n",
    "        b*=10\n",
    "    return a\n",
    "\n",
    "n=int(input(\"Enter N :\"))\n",
    "print(reverse(n))\n"
   ]
  },
  {
   "cell_type": "markdown",
   "metadata": {},
   "source": [
    "### 04) WAP to convert decimal number into binary using recursion."
   ]
  },
  {
   "cell_type": "code",
   "execution_count": 47,
   "metadata": {},
   "outputs": [
    {
     "name": "stdout",
     "output_type": "stream",
     "text": [
      "1010\n"
     ]
    }
   ],
   "source": [
    "def find( decimal_number ):\n",
    "    if decimal_number == 0:\n",
    "        return 0\n",
    "    else:\n",
    "        return (decimal_number % 2 + 10 *find(decimal_number // 2))\n",
    "\n",
    "decimal_number=int(input(\"Enter N :\"))\n",
    "print(find(decimal_number))"
   ]
  },
  {
   "attachments": {},
   "cell_type": "markdown",
   "metadata": {},
   "source": [
    "### Factorial Using Recursion"
   ]
  },
  {
   "cell_type": "code",
   "execution_count": 10,
   "metadata": {},
   "outputs": [
    {
     "name": "stdout",
     "output_type": "stream",
     "text": [
      "3628800\n"
     ]
    }
   ],
   "source": [
    "def fact(n):\n",
    "    if n==0:\n",
    "        return 1\n",
    "    else:\n",
    "        return (n*fact(n-1))\n",
    "\n",
    "print(fact(10))"
   ]
  },
  {
   "cell_type": "code",
   "execution_count": 19,
   "metadata": {},
   "outputs": [
    {
     "name": "stdout",
     "output_type": "stream",
     "text": [
      "sqrt of 25 = 5\n"
     ]
    }
   ],
   "source": [
    "def sqrt(n):\n",
    "    i,c=1,0\n",
    "    a=1\n",
    "    while n>0:\n",
    "        n=n-i\n",
    "        i+=2\n",
    "        c+=1\n",
    "        if n<0:\n",
    "            a=0\n",
    "            break\n",
    "    if a==1:\n",
    "        return c\n",
    "    else:\n",
    "        return c-1\n",
    "    \n",
    "\n",
    "n=int(input(\"Enter N:\"))\n",
    "print(f\"sqrt of {n} = {sqrt(n)}\")"
   ]
  },
  {
   "cell_type": "code",
   "execution_count": 5,
   "metadata": {},
   "outputs": [
    {
     "name": "stdout",
     "output_type": "stream",
     "text": [
      "['', '', '', 'fly', 'me', '', '', 'to', '', '', 'the', 'moon', '', '']\n",
      "['fly', 'me', 'to', 'the', 'moon']\n",
      "4\n"
     ]
    }
   ],
   "source": [
    "def lengthOfLastWord(self, s: str) -> int:\n",
    "        ls=[]   \n",
    "        ls1=[]\n",
    "        ls=s.split(\" \")\n",
    "        print(ls)\n",
    "        for i in ls:\n",
    "            if len(i)==0:\n",
    "                continue\n",
    "            else:\n",
    "                ls1.append(i)\n",
    "        print(ls1)\n",
    "        return len(ls1[-1])\n",
    "print(lengthOfLastWord(1,\"   fly me   to   the moon  \"))"
   ]
  },
  {
   "cell_type": "code",
   "execution_count": null,
   "metadata": {},
   "outputs": [],
   "source": []
  }
 ],
 "metadata": {
  "kernelspec": {
   "display_name": "Python 3",
   "language": "python",
   "name": "python3"
  },
  "language_info": {
   "codemirror_mode": {
    "name": "ipython",
    "version": 3
   },
   "file_extension": ".py",
   "mimetype": "text/x-python",
   "name": "python",
   "nbconvert_exporter": "python",
   "pygments_lexer": "ipython3",
   "version": "3.11.0"
  },
  "vscode": {
   "interpreter": {
    "hash": "56d511f526c6216a56ec98a6aa3bfbe83beb5e9fedb00e02076d55aa3bccf957"
   }
  }
 },
 "nbformat": 4,
 "nbformat_minor": 4
}
