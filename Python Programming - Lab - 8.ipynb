{
 "cells": [
  {
   "cell_type": "markdown",
   "metadata": {},
   "source": [
    "<a href='https://www.darshan.ac.in/'> <img src='https://www.darshan.ac.in/Content/media/DU_Logo.svg' width=\"250\" height=\"300\"/></a>\n",
    "<pre>\n",
    "<center><b><h1>Python Programming - 2101CS405</b></center>\n",
    "<center><b><h1>Lab - 8</b></center>    \n",
    "<pre>"
   ]
  },
  {
   "cell_type": "markdown",
   "metadata": {},
   "source": [
    "# File handling"
   ]
  },
  {
   "cell_type": "markdown",
   "metadata": {},
   "source": [
    "# A"
   ]
  },
  {
   "cell_type": "markdown",
   "metadata": {},
   "source": [
    "### 01) WAP to read entire file named abc.txt"
   ]
  },
  {
   "cell_type": "code",
   "execution_count": 3,
   "metadata": {},
   "outputs": [
    {
     "name": "stdout",
     "output_type": "stream",
     "text": [
      "hii i am kevin dhaduk\n",
      "how are you\n",
      "i am fine\n",
      "what's about you\n",
      "\n"
     ]
    }
   ],
   "source": [
    "txt = open('abc.txt','r')\n",
    "print(txt.read())\n"
   ]
  },
  {
   "cell_type": "markdown",
   "metadata": {},
   "source": [
    "### 02) WAP to print program it self on console."
   ]
  },
  {
   "cell_type": "code",
   "execution_count": null,
   "metadata": {},
   "outputs": [],
   "source": []
  },
  {
   "cell_type": "markdown",
   "metadata": {},
   "source": [
    "### 03) WAP to read first 5 lines from the file named abc.txt"
   ]
  },
  {
   "cell_type": "code",
   "execution_count": 17,
   "metadata": {},
   "outputs": [
    {
     "name": "stdout",
     "output_type": "stream",
     "text": [
      "1\n",
      "\n",
      "2\n",
      "\n",
      "3\n",
      "\n",
      "4\n",
      "\n",
      "5\n",
      "\n"
     ]
    }
   ],
   "source": [
    "def file_read(fname):\n",
    "    ls=[]\n",
    "    txt = open(fname)\n",
    "    for i in range (5):\n",
    "        print(txt.readline())\n",
    "\n",
    "file_read('123.txt')"
   ]
  },
  {
   "cell_type": "markdown",
   "metadata": {},
   "source": [
    "### 04) WAP to find the longest word in a file named abc.txt"
   ]
  },
  {
   "cell_type": "code",
   "execution_count": 17,
   "metadata": {},
   "outputs": [
    {
     "name": "stdout",
     "output_type": "stream",
     "text": [
      "['hii', 'i', 'am', 'kevin', 'dhaduk', 'how', 'are', 'you', 'i', 'am', 'fine', \"what's\", 'about', 'you']\n",
      "dhaduk\n"
     ]
    }
   ],
   "source": [
    "f=open('abc.txt','r')\n",
    "words=f.read().split()\n",
    "# print(words)\n",
    "max=\"\"\n",
    "for i in words:\n",
    "    if(len(i)>len(max)):\n",
    "        max=i\n",
    "print(max)"
   ]
  },
  {
   "cell_type": "markdown",
   "metadata": {},
   "source": [
    "### 05) WAP to find the size of the file named abc.txt"
   ]
  },
  {
   "cell_type": "code",
   "execution_count": 22,
   "metadata": {},
   "outputs": [
    {
     "name": "stdout",
     "output_type": "stream",
     "text": [
      "51\n"
     ]
    }
   ],
   "source": [
    "f=open('abc.txt','r')\n",
    "words=f.read()\n",
    "char=0\n",
    "for i in words:\n",
    "    word=i.split(\" \")\n",
    "    for j in word:\n",
    "        char+=len(j)\n",
    "print(char)"
   ]
  },
  {
   "cell_type": "markdown",
   "metadata": {},
   "source": [
    "### 06) WAP to implement search function to search specific occurance of word in a given text file."
   ]
  },
  {
   "cell_type": "code",
   "execution_count": 25,
   "metadata": {},
   "outputs": [
    {
     "name": "stdout",
     "output_type": "stream",
     "text": [
      "['hii', 'i', 'am', 'kevin', 'dhaduk', 'how', 'are', 'you', 'i', 'am', 'fine', \"what's\", 'about', 'you']\n",
      "occurance of word you in abc.txt file is 2\n"
     ]
    }
   ],
   "source": [
    "f=open('abc.txt','r')\n",
    "words=f.read().split()\n",
    "print(words)\n",
    "str=input(\"enter word to search :\")\n",
    "c=0\n",
    "for i in words:\n",
    "    if str == i:\n",
    "        c+=1\n",
    "print(f\"occurance of word {str} in abc.txt file is {c}\")"
   ]
  },
  {
   "cell_type": "markdown",
   "metadata": {},
   "source": [
    "# B"
   ]
  },
  {
   "cell_type": "markdown",
   "metadata": {},
   "source": [
    "### 01) WAP to write first 100 prime numbers to a file named primenumbers.txt \n",
    "(Note: each number should be in new line)"
   ]
  },
  {
   "cell_type": "code",
   "execution_count": 35,
   "metadata": {},
   "outputs": [],
   "source": [
    "f=open('prime.txt','w')\n",
    "for i in range(2,101):\n",
    "    for j in range(2,i):\n",
    "        if i%j==0:\n",
    "            break\n",
    "    else:\n",
    "        f.write(str(i)+str(\"\\n\"))\n",
    "f.close()"
   ]
  },
  {
   "cell_type": "markdown",
   "metadata": {},
   "source": [
    "### 02) WAP to merge two files and write it in a new file."
   ]
  },
  {
   "cell_type": "code",
   "execution_count": 37,
   "metadata": {},
   "outputs": [],
   "source": [
    "f1=open('abc.txt','r')\n",
    "f2=open('mergefile.txt','w')\n",
    "txt=f1.read()\n",
    "f2.write(txt)\n",
    "f1.close()\n",
    "f2.close()\n",
    "f3=open('prime.txt','r')\n",
    "f4=open('mergefile.txt','a')\n",
    "txt1=f3.read()\n",
    "f4.write(txt1)\n",
    "f3.close()\n",
    "f4.close()"
   ]
  },
  {
   "cell_type": "markdown",
   "metadata": {},
   "source": [
    "### 03) WAP to encrypt a text file."
   ]
  },
  {
   "cell_type": "code",
   "execution_count": 50,
   "metadata": {},
   "outputs": [],
   "source": [
    "# str1=input(\"enter word\")\n",
    "f=open('abc.txt','r')\n",
    "f1=open('encrypt.txt','w')\n",
    "words=f.read()\n",
    "# print(words)\n",
    "for i in words:\n",
    "    for j in i:\n",
    "        a=ord(j)+3\n",
    "        f1.write(chr(a))\n",
    "f.close()\n",
    "f1.close()"
   ]
  },
  {
   "cell_type": "markdown",
   "metadata": {},
   "source": [
    "### 04) WAP to decrypt a previously encrypted file."
   ]
  },
  {
   "cell_type": "code",
   "execution_count": 54,
   "metadata": {},
   "outputs": [],
   "source": [
    "# str1=input(\"enter word\")\n",
    "f=open('encrypt.txt','r')\n",
    "f1=open('decrypt.txt','w')\n",
    "words=f.read()\n",
    "# print(words)\n",
    "for i in words:\n",
    "    for j in i:\n",
    "        a=ord(j)-3\n",
    "        if a==32:\n",
    "            f1.write(' ')\n",
    "        f1.write(chr(a))\n",
    "f.close()\n",
    "f1.close()"
   ]
  },
  {
   "cell_type": "markdown",
   "metadata": {},
   "source": [
    "### 05) WAP to remove a word from text file."
   ]
  },
  {
   "cell_type": "code",
   "execution_count": 57,
   "metadata": {},
   "outputs": [
    {
     "name": "stdout",
     "output_type": "stream",
     "text": [
      "['hii', 'i', 'am', 'kevin', 'dhaduk', 'how', 'are', 'you', 'i', 'am', 'fine', \"what's\", 'about', 'you']\n",
      "['i', 'am', 'kevin', 'dhaduk', 'how', 'are', 'you', 'i', 'am', 'fine', \"what's\", 'about', 'you']\n"
     ]
    }
   ],
   "source": [
    "f=open('abc.txt','r+')\n",
    "words=f.read().split()\n",
    "print(words)\n",
    "str=input(\"enter word to search :\")\n",
    "c=0\n",
    "for i in words:\n",
    "    if str == i:\n",
    "        words.remove(i)\n",
    "print(words)\n",
    "# print(f\"occurance of word {str} in abc.txt file is {c}\")"
   ]
  },
  {
   "cell_type": "code",
   "execution_count": null,
   "metadata": {},
   "outputs": [],
   "source": []
  }
 ],
 "metadata": {
  "kernelspec": {
   "display_name": "Python 3",
   "language": "python",
   "name": "python3"
  },
  "language_info": {
   "codemirror_mode": {
    "name": "ipython",
    "version": 3
   },
   "file_extension": ".py",
   "mimetype": "text/x-python",
   "name": "python",
   "nbconvert_exporter": "python",
   "pygments_lexer": "ipython3",
   "version": "3.11.0"
  },
  "vscode": {
   "interpreter": {
    "hash": "56d511f526c6216a56ec98a6aa3bfbe83beb5e9fedb00e02076d55aa3bccf957"
   }
  }
 },
 "nbformat": 4,
 "nbformat_minor": 4
}
