{
 "cells": [
  {
   "attachments": {},
   "cell_type": "markdown",
   "metadata": {},
   "source": [
    "<a href='https://www.darshan.ac.in/'> <img src='https://www.darshan.ac.in/Content/media/DU_Logo.svg' width=\"250\" height=\"300\"/></a>\n",
    "<pre>\n",
    "<center><b><h1>Python Programming - 2101CS405</b></center>\n",
    "<center><b><h1>Lab - 10</b></center>    \n",
    "<pre>"
   ]
  },
  {
   "cell_type": "markdown",
   "metadata": {},
   "source": [
    "# Modules"
   ]
  },
  {
   "cell_type": "markdown",
   "metadata": {},
   "source": [
    "# A"
   ]
  },
  {
   "cell_type": "markdown",
   "metadata": {},
   "source": [
    "### 01) WAP to create Calculator module which defines functions like add, sub,mul and div. create another file that uses the Calculator module."
   ]
  },
  {
   "cell_type": "code",
   "execution_count": 4,
   "metadata": {},
   "outputs": [
    {
     "name": "stdout",
     "output_type": "stream",
     "text": [
      "addition :  3\n",
      "substraction :  1\n",
      "division :  2.0\n",
      "m ultiplication :  8\n"
     ]
    }
   ],
   "source": [
    "import clc\n",
    "print (\"addition : \",clc.sum(1,2))\n",
    "print(\"substraction : \",clc.sub(2,1))\n",
    "print(\"division : \",clc.div(4,2))\n",
    "print(\"m ultiplication : \",clc.mul(4,2))"
   ]
  },
  {
   "cell_type": "markdown",
   "metadata": {},
   "source": [
    "### 02) WAP to Pick a random character from a given String."
   ]
  },
  {
   "cell_type": "code",
   "execution_count": 8,
   "metadata": {},
   "outputs": [
    {
     "name": "stdout",
     "output_type": "stream",
     "text": [
      "s\n"
     ]
    }
   ],
   "source": [
    "import random\n",
    "s=\"My Name Is Kevin\"\n",
    "print(random.choice(s))"
   ]
  },
  {
   "cell_type": "markdown",
   "metadata": {},
   "source": [
    "### 03) WAP to Pick a random element from a given list."
   ]
  },
  {
   "cell_type": "code",
   "execution_count": 11,
   "metadata": {},
   "outputs": [
    {
     "name": "stdout",
     "output_type": "stream",
     "text": [
      "9\n"
     ]
    }
   ],
   "source": [
    "import random\n",
    "ls=[1,2,3,4,5,6,7,8,9,10]\n",
    "print(random.choice(ls))"
   ]
  },
  {
   "cell_type": "markdown",
   "metadata": {},
   "source": [
    "### 04) WAP to demonstrate the use of the math module."
   ]
  },
  {
   "cell_type": "code",
   "execution_count": 3,
   "metadata": {},
   "outputs": [
    {
     "name": "stdout",
     "output_type": "stream",
     "text": [
      "e =  2.718281828459045\n",
      "tau =  6.283185307179586\n",
      "pi =  3.141592653589793\n",
      "cail of 5.6 =  6\n",
      "floor of 5.6 =  5\n",
      "factorial of 5 =  120\n",
      "gcd of 15 and 13 =  1\n",
      "lcm =  30\n",
      "absolute =  1.233\n",
      "exponentital =  162754.79141900392\n",
      "power =  16.0\n",
      "log =  2.0\n",
      "log =  0.6020599913279624\n",
      "degree to radian =  158.6678822988045\n",
      "radian to degree =  9091.0\n",
      "gamma =  6.0\n",
      "fabs =  4.0\n"
     ]
    }
   ],
   "source": [
    "import math\n",
    "print(\"e = \",math.e)\n",
    "print('tau = ',math.tau)\n",
    "print(\"pi = \",math.pi)\n",
    "print(\"cail of 5.6 = \",math.ceil(5.6))\n",
    "print(\"floor of 5.6 = \",math.floor(5.6))\n",
    "print(\"factorial of 5 = \",math.factorial(5))\n",
    "print(\"gcd of 15 and 13 = \",math.gcd(15,13))\n",
    "print(\"lcm = \",math.lcm(15,30))\n",
    "print(\"absolute = \",math.fabs(-1.233))\n",
    "print(\"exponentital = \",math.exp(12))\n",
    "print(\"power = \",math.pow(4,2))\n",
    "print(\"log = \",math.log2(4))\n",
    "print(\"log = \",math.log10(4))\n",
    "print(\"degree to radian = \",math.radians(9091))\n",
    "print(\"radian to degree = \",math.degrees(158.6678822988045))\n",
    "print(\"gamma = \",math.gamma(4))\n",
    "print(\"fabs = \",math.fabs(-4))"
   ]
  },
  {
   "cell_type": "markdown",
   "metadata": {},
   "source": [
    "### 05) WAP to demonstrate the use of date time module."
   ]
  },
  {
   "cell_type": "code",
   "execution_count": 20,
   "metadata": {},
   "outputs": [
    {
     "name": "stdout",
     "output_type": "stream",
     "text": [
      "Date =  2004-06-29\n",
      "Today =  2023-02-17\n",
      "Today year =  2023\n",
      "Today month =  2\n",
      "Today day =  17\n"
     ]
    }
   ],
   "source": [
    "import datetime\n",
    "d = datetime.date(2004,6,29)\n",
    "print(\"Date = \",d)\n",
    "today = datetime.date.today()\n",
    "print(\"Today = \",today)\n",
    "print(\"year = \",today.year)\n",
    "print(\"month = \",today.month)\n",
    "print(\"day = \",today.day)"
   ]
  },
  {
   "cell_type": "code",
   "execution_count": 23,
   "metadata": {},
   "outputs": [
    {
     "name": "stdout",
     "output_type": "stream",
     "text": [
      "12:38:05.000012\n",
      "hour =  12\n",
      "minute =  38\n",
      "second =  5\n",
      "microseconds =  12\n"
     ]
    }
   ],
   "source": [
    "t = datetime.time(12,38,5,12)\n",
    "print(t)\n",
    "print(\"hour = \",t.hour)\n",
    "print(\"minute = \",t.minute)\n",
    "print(\"second = \",t.second)\n",
    "print(\"microseconds = \",t.microsecond)"
   ]
  },
  {
   "cell_type": "markdown",
   "metadata": {},
   "source": [
    "# B"
   ]
  },
  {
   "cell_type": "markdown",
   "metadata": {},
   "source": [
    "### 01) WAP to Roll dice in such a way that every time you get the same number."
   ]
  },
  {
   "cell_type": "code",
   "execution_count": 28,
   "metadata": {},
   "outputs": [
    {
     "name": "stdout",
     "output_type": "stream",
     "text": [
      "2\n"
     ]
    }
   ],
   "source": [
    "import random\n",
    "ls=[1,2,3,4,5,6]\n",
    "random.seed(1)\n",
    "print(random.choice(ls))"
   ]
  },
  {
   "cell_type": "markdown",
   "metadata": {},
   "source": [
    "### 02) WAP to generate 3 random integers between 100 and 999 which is divisible by 5."
   ]
  },
  {
   "cell_type": "code",
   "execution_count": 32,
   "metadata": {},
   "outputs": [
    {
     "name": "stdout",
     "output_type": "stream",
     "text": [
      "700\n",
      "930\n",
      "585\n"
     ]
    }
   ],
   "source": [
    "import random\n",
    "ls=[i for i in range(100,1000) if i%5==0 ]\n",
    "for i in range(1,4):\n",
    "    print(random.choice(ls))"
   ]
  },
  {
   "cell_type": "code",
   "execution_count": null,
   "metadata": {},
   "outputs": [],
   "source": [
    "import random\n",
    "for i in range(1,4):\n",
    "    print(random.randrange(100,1000,5))"
   ]
  },
  {
   "cell_type": "markdown",
   "metadata": {},
   "source": [
    "### 03) WAP to generate 100 random lottery tickets and pick two lucky tickets from it as a winner."
   ]
  },
  {
   "cell_type": "code",
   "execution_count": 34,
   "metadata": {},
   "outputs": [
    {
     "name": "stdout",
     "output_type": "stream",
     "text": [
      "[471, 297]\n"
     ]
    }
   ],
   "source": [
    "import random\n",
    "ls=[]\n",
    "for i in range(0,100):\n",
    "    x = random.randint(1,1001)\n",
    "    ls.append(x)\n",
    "print(random.sample(ls,2))\n"
   ]
  },
  {
   "cell_type": "markdown",
   "metadata": {},
   "source": [
    "### 04) WAP to print current date and time in Python."
   ]
  },
  {
   "cell_type": "code",
   "execution_count": 46,
   "metadata": {},
   "outputs": [
    {
     "name": "stdout",
     "output_type": "stream",
     "text": [
      "today date & time:  2023-02-17 13:03:24.559749\n"
     ]
    }
   ],
   "source": [
    "import datetime\n",
    "print(\"today date & time: \",datetime.datetime.now())"
   ]
  },
  {
   "cell_type": "markdown",
   "metadata": {},
   "source": [
    "### 05) Subtract a week (7 days) from a given date in Python."
   ]
  },
  {
   "cell_type": "code",
   "execution_count": 47,
   "metadata": {},
   "outputs": [
    {
     "name": "stdout",
     "output_type": "stream",
     "text": [
      "2004-06-22\n"
     ]
    }
   ],
   "source": [
    "import datetime\n",
    "dt = datetime.date(2004,6,29)\n",
    "y = dt+datetime.timedelta(weeks=-1)\n",
    "print(y)"
   ]
  },
  {
   "cell_type": "markdown",
   "metadata": {},
   "source": [
    "### 06) WAP to Calculate number of days between two given dates."
   ]
  },
  {
   "cell_type": "code",
   "execution_count": 7,
   "metadata": {},
   "outputs": [
    {
     "name": "stdout",
     "output_type": "stream",
     "text": [
      "10.0\n"
     ]
    }
   ],
   "source": [
    "import datetime\n",
    "d1=datetime.date(2004,1,16)\n",
    "d2=datetime.date(2004,1,6)\n",
    "d3=d1.day - d2.day\n",
    "print(math.fabs(d3))"
   ]
  },
  {
   "cell_type": "markdown",
   "metadata": {},
   "source": [
    "### 07) WAP to Find the day of the week of a given date."
   ]
  },
  {
   "cell_type": "code",
   "execution_count": 9,
   "metadata": {},
   "outputs": [
    {
     "name": "stdout",
     "output_type": "stream",
     "text": [
      "Tuesday\n"
     ]
    }
   ],
   "source": [
    "dt = datetime.date(2004,1,6)\n",
    "print(dt.strftime(\"%A\"))"
   ]
  }
 ],
 "metadata": {
  "kernelspec": {
   "display_name": "Python 3",
   "language": "python",
   "name": "python3"
  },
  "language_info": {
   "codemirror_mode": {
    "name": "ipython",
    "version": 3
   },
   "file_extension": ".py",
   "mimetype": "text/x-python",
   "name": "python",
   "nbconvert_exporter": "python",
   "pygments_lexer": "ipython3",
   "version": "3.11.0"
  },
  "vscode": {
   "interpreter": {
    "hash": "56d511f526c6216a56ec98a6aa3bfbe83beb5e9fedb00e02076d55aa3bccf957"
   }
  }
 },
 "nbformat": 4,
 "nbformat_minor": 4
}
