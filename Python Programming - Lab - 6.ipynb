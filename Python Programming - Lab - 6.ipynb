{
 "cells": [
  {
   "attachments": {},
   "cell_type": "markdown",
   "metadata": {},
   "source": [
    "<a href='https://www.darshan.ac.in/'> <img src='https://www.darshan.ac.in/Content/media/DU_Logo.svg' width=\"250\" height=\"300\"/></a>\n",
    "<pre>\n",
    "<center><b><h1>Python Programming - 2101CS405</b></center>\n",
    "<center><b><h1>Lab - 6</b></center>    \n",
    "<pre>"
   ]
  },
  {
   "cell_type": "markdown",
   "metadata": {},
   "source": [
    "# Tuples, dictionary, set"
   ]
  },
  {
   "cell_type": "markdown",
   "metadata": {},
   "source": [
    "# A"
   ]
  },
  {
   "cell_type": "markdown",
   "metadata": {},
   "source": [
    "### 01) WAP to sort python dictionary by key or value."
   ]
  },
  {
   "cell_type": "code",
   "execution_count": 28,
   "metadata": {},
   "outputs": [
    {
     "name": "stdout",
     "output_type": "stream",
     "text": [
      "{1: 'abc', 2: 'xyz', 3: 'pqr'}\n"
     ]
    }
   ],
   "source": [
    "my_dict = {1:\"abc\",3:\"pqr\",2:\"xyz\"}\n",
    "for i in my_dict:\n",
    "    l1=sorted(my_dict.items())\n",
    "my_dict = dict(l1)\n",
    "print(my_dict)  "
   ]
  },
  {
   "cell_type": "markdown",
   "metadata": {},
   "source": [
    "### 02) WAP to merge two dictionaries given by user."
   ]
  },
  {
   "cell_type": "code",
   "execution_count": 10,
   "metadata": {},
   "outputs": [
    {
     "name": "stdout",
     "output_type": "stream",
     "text": [
      "{1: 'a', 2: 'b', 3: 'c', 4: 'd', 5: 'e', 6: 'f'}\n"
     ]
    }
   ],
   "source": [
    "# dic1=[i.split(\" \") for i in range(1)]\n",
    "dic1={1:'a',2:'b',3:'c'}\n",
    "dic2={4:'d',5:'e',6:'f'}\n",
    "dic3=dic1|dic2\n",
    "print(dic3)"
   ]
  },
  {
   "cell_type": "markdown",
   "metadata": {},
   "source": [
    "### 03) WAP to find tuples that have all elements divisible by K from a list of tuples."
   ]
  },
  {
   "cell_type": "code",
   "execution_count": 4,
   "metadata": {},
   "outputs": [
    {
     "name": "stdout",
     "output_type": "stream",
     "text": [
      "(5, 10, 15, 20)\n",
      "(25, 55, 50, 60, 30)\n"
     ]
    }
   ],
   "source": [
    "ls=[(1,2,3,4),(5,10,15,20),(25,55,50,60,30)]\n",
    "for i in ls:\n",
    "    for j in i:\n",
    "        if j%5!=0:\n",
    "            break\n",
    "    else:\n",
    "        print(i)"
   ]
  },
  {
   "cell_type": "markdown",
   "metadata": {},
   "source": [
    "### 04) WAP to find Tuples with positive elements in List of tuples."
   ]
  },
  {
   "cell_type": "code",
   "execution_count": 6,
   "metadata": {},
   "outputs": [
    {
     "name": "stdout",
     "output_type": "stream",
     "text": [
      "(25, 55, 50, 60, 30)\n"
     ]
    }
   ],
   "source": [
    "ls=[(1,-2,3,4),(5,-10,15,20),(25,55,50,60,30)]\n",
    "for i in ls:\n",
    "    for j in i:\n",
    "        if j<0:\n",
    "            break\n",
    "    else:\n",
    "        print(i)"
   ]
  },
  {
   "cell_type": "markdown",
   "metadata": {},
   "source": [
    "### 05) WAP which perform union of two sets."
   ]
  },
  {
   "cell_type": "code",
   "execution_count": 31,
   "metadata": {},
   "outputs": [
    {
     "name": "stdout",
     "output_type": "stream",
     "text": [
      "Enter Keys: \n",
      "Enter Values: \n",
      "{'1': 'nevil'}\n",
      "Enter Keys: \n",
      "Enter Values: \n",
      "{'2': 'rushi'}\n",
      "{'1': 'nevil', '2': 'rushi'}\n"
     ]
    }
   ],
   "source": [
    "my_dict1={}\n",
    "c=int(input(\"Enter How many Element you want to enter: \"))\n",
    "for i in range(c):\n",
    "    print(\"Enter Keys: \")\n",
    "    keys=input()\n",
    "    print(\"Enter Values: \")\n",
    "    values=input()\n",
    "    my_dict1[keys]=values\n",
    "print(my_dict1)\n",
    "\n",
    "my_dict2={}\n",
    "c=int(input(\"Enter How many Element you want to enter: \"))\n",
    "for i in range(c):\n",
    "    print(\"Enter Keys: \")\n",
    "    keys=input()\n",
    "    print(\"Enter Values: \")\n",
    "    values=input()\n",
    "    my_dict2[keys]=values\n",
    "print(my_dict2)\n",
    "\n",
    "print(my_dict1 | my_dict2)"
   ]
  },
  {
   "cell_type": "markdown",
   "metadata": {},
   "source": [
    "# B"
   ]
  },
  {
   "cell_type": "markdown",
   "metadata": {},
   "source": [
    "### 01) WAP to convert binary tuple into integer."
   ]
  },
  {
   "cell_type": "code",
   "execution_count": 27,
   "metadata": {},
   "outputs": [
    {
     "name": "stdout",
     "output_type": "stream",
     "text": [
      "10.0\n"
     ]
    }
   ],
   "source": [
    "import math\n",
    "t=(1,0,1,0)\n",
    "a=len(t)\n",
    "b=0\n",
    "for i in t:\n",
    "    b+=b+math.pow(i,a)\n",
    "    a-=1\n",
    "print(b)"
   ]
  },
  {
   "cell_type": "markdown",
   "metadata": {},
   "source": [
    "### 02) WAP to count frequency in list by dictionary."
   ]
  },
  {
   "cell_type": "code",
   "execution_count": 32,
   "metadata": {},
   "outputs": [
    {
     "name": "stdout",
     "output_type": "stream",
     "text": [
      "{1: 3, 2: 2, 3: 2, 4: 4}\n"
     ]
    }
   ],
   "source": [
    "li = [1,1,1,2,2,3,3,4,4,4,4]\n",
    "freq={}\n",
    "for item in li:\n",
    "    if(item in freq):\n",
    "        freq[item]+=1\n",
    "    else:\n",
    "        freq[item]=1\n",
    "print(freq)"
   ]
  },
  {
   "cell_type": "markdown",
   "metadata": {},
   "source": [
    "### 03) WAP to remove all the duplicate words from the list using dictionary."
   ]
  },
  {
   "cell_type": "code",
   "execution_count": 33,
   "metadata": {},
   "outputs": [
    {
     "data": {
      "text/plain": [
       "['a', 'b', 'c']"
      ]
     },
     "execution_count": 33,
     "metadata": {},
     "output_type": "execute_result"
    }
   ],
   "source": [
    "my_list=['a','a','b','b','c','c']\n",
    "di=list(dict.fromkeys(my_list))\n",
    "di"
   ]
  }
 ],
 "metadata": {
  "kernelspec": {
   "display_name": "Python 3",
   "language": "python",
   "name": "python3"
  },
  "language_info": {
   "codemirror_mode": {
    "name": "ipython",
    "version": 3
   },
   "file_extension": ".py",
   "mimetype": "text/x-python",
   "name": "python",
   "nbconvert_exporter": "python",
   "pygments_lexer": "ipython3",
   "version": "3.11.0 (main, Oct 24 2022, 18:26:48) [MSC v.1933 64 bit (AMD64)]"
  },
  "vscode": {
   "interpreter": {
    "hash": "56d511f526c6216a56ec98a6aa3bfbe83beb5e9fedb00e02076d55aa3bccf957"
   }
  }
 },
 "nbformat": 4,
 "nbformat_minor": 4
}
