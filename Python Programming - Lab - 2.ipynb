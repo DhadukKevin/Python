{
 "cells": [
  {
   "cell_type": "markdown",
   "metadata": {},
   "source": [
    "\n",
    "<a href='https://www.darshan.ac.in/'> <img src='https://www.darshan.ac.in/Content/media/DU_Logo.svg' width=\"250\" height=\"300\"/></a>\n",
    "<pre>\n",
    "<center><b><h1>Python Programming - 2101CS405</b></center>\n",
    "<center><b><h1>Lab - 2</b></center>    \n",
    "<pre>"
   ]
  },
  {
   "cell_type": "markdown",
   "metadata": {},
   "source": [
    "# if..else.."
   ]
  },
  {
   "cell_type": "markdown",
   "metadata": {},
   "source": [
    "### 01) WAP to check whether the given number is positive or negative."
   ]
  },
  {
   "cell_type": "code",
   "execution_count": 1,
   "metadata": {},
   "outputs": [
    {
     "name": "stdout",
     "output_type": "stream",
     "text": [
      "1 is positive\n"
     ]
    }
   ],
   "source": [
    "a=int(input(\"Enter a Number : \"))\n",
    "if a<0:\n",
    "    print(a,\"is negative\")\n",
    "else:\n",
    "    print(a,\"is positive\")"
   ]
  },
  {
   "cell_type": "markdown",
   "metadata": {},
   "source": [
    "### 02) WAP to check whether the given number is odd or even"
   ]
  },
  {
   "cell_type": "code",
   "execution_count": 2,
   "metadata": {},
   "outputs": [
    {
     "name": "stdout",
     "output_type": "stream",
     "text": [
      "13 is odd\n"
     ]
    }
   ],
   "source": [
    "a=int(input(\"Enter a Number : \"))\n",
    "if a%2 == 0:\n",
    "    print(a,\"is even\")\n",
    "else:\n",
    "    print(a,\"is odd\")"
   ]
  },
  {
   "cell_type": "markdown",
   "metadata": {},
   "source": [
    "### 03) WAP to find out largest number from given two numbers using simple if and ternary operator."
   ]
  },
  {
   "cell_type": "code",
   "execution_count": 3,
   "metadata": {},
   "outputs": [
    {
     "name": "stdout",
     "output_type": "stream",
     "text": [
      "2 is largest\n"
     ]
    }
   ],
   "source": [
    "a=int(input(\"Enter a Number : \"))\n",
    "b=int(input(\"Enter b Number : \"))\n",
    "if a<b:\n",
    "    print(b,\"is largest\")\n",
    "else:\n",
    "    print(a,\"is largest\")"
   ]
  },
  {
   "cell_type": "markdown",
   "metadata": {},
   "source": [
    "### 04) WAP to find out largest number from given three numbers."
   ]
  },
  {
   "cell_type": "code",
   "execution_count": 4,
   "metadata": {},
   "outputs": [
    {
     "name": "stdout",
     "output_type": "stream",
     "text": [
      "3 is largest\n"
     ]
    }
   ],
   "source": [
    "a=int(input(\"Enter a Number : \"))\n",
    "b=int(input(\"Enter b Number : \"))\n",
    "c=int(input(\"Enter c Number : \"))\n",
    "if a<b and a>c:\n",
    "    print(a,\"is largest\")\n",
    "elif b>c:\n",
    "    print(b,\"is largest\")\n",
    "else:\n",
    "    print(c,\"is largest\")"
   ]
  },
  {
   "cell_type": "markdown",
   "metadata": {},
   "source": [
    "### 05) WAP to check whether the given year is leap year or not.\n",
    "[If a year can be divisible by 4 but not divisible by 100 then it is leap year but if it is divisible by 400 then it is leap year]"
   ]
  },
  {
   "cell_type": "code",
   "execution_count": 6,
   "metadata": {},
   "outputs": [
    {
     "name": "stdout",
     "output_type": "stream",
     "text": [
      "2001 is not a leap year\n"
     ]
    }
   ],
   "source": [
    "y=int(input(\"Enter year : \"))\n",
    "if y%400 == 0 and y%100 == 0:\n",
    "    print(y,\"is leap year\")\n",
    "elif y%4 ==0 and y%100 !=0:\n",
    "    print(y,\"is leap year\")\n",
    "else:\n",
    "    print(y,\"is not a leap year\")"
   ]
  },
  {
   "cell_type": "markdown",
   "metadata": {},
   "source": [
    "### 06) WAP in python to display the name of the day according to the number given by the user"
   ]
  },
  {
   "cell_type": "code",
   "execution_count": 1,
   "metadata": {},
   "outputs": [
    {
     "name": "stdout",
     "output_type": "stream",
     "text": [
      "Wednesday\n"
     ]
    }
   ],
   "source": [
    "d=int(input(\"Enter Number between 1-7: \"))\n",
    "if d==1:\n",
    "    print(\"Monday\")\n",
    "elif d==2:\n",
    "    print(\"Tuesday\")\n",
    "elif d==3:\n",
    "    print(\"Wednesday\")\n",
    "elif d==4:\n",
    "    print(\"Thursday\")\n",
    "elif d==5:\n",
    "    print(\"Friday\")\n",
    "elif d==6:\n",
    "    print(\"Saturday\")\n",
    "elif d==7:\n",
    "    print(\"Sunday\")\n",
    "else:\n",
    "    print(\"Wrong Input\")"
   ]
  },
  {
   "cell_type": "markdown",
   "metadata": {},
   "source": [
    "### 07) WAP to implement simple calculator which performs (add,sub,mul,div) of two no. based on user input."
   ]
  },
  {
   "cell_type": "code",
   "execution_count": 5,
   "metadata": {},
   "outputs": [
    {
     "name": "stdout",
     "output_type": "stream",
     "text": [
      "4 / 2 = 2.0\n"
     ]
    }
   ],
   "source": [
    "a=int(input(\"Enter a Number : \"))\n",
    "o=input(\"Enter Operator : \")\n",
    "b=int(input(\"Enter b Number : \"))\n",
    "\n",
    "if o=='+':\n",
    "    s=a+b\n",
    "    print(a,'+',b,\"=\",s)\n",
    "elif o=='-':\n",
    "    s=a-b\n",
    "    print(a,'-',b,\"=\",s)\n",
    "elif o=='*':\n",
    "    s=a*b\n",
    "    print(a,'*',b,\"=\",s)\n",
    "elif o=='/':\n",
    "    s=a/b\n",
    "    print(a,'/',b,\"=\",s)\n",
    "else:\n",
    "    print(\"Please Enter Valid Operator\")\n"
   ]
  },
  {
   "cell_type": "markdown",
   "metadata": {},
   "source": [
    "### 08) WAP to calculate electricity bill based on following criteria. Which takes the unit from the user.\n",
    "a. First 1 to 50 units – Rs. 2.60/unit</br>\n",
    "b. Next 50 to 100 units – Rs. 3.25/unit</br>\n",
    "c. Next 100 to 200 units – Rs. 5.26/unit</br>\n",
    "d. above 200 units – Rs. 8.45/unit"
   ]
  },
  {
   "cell_type": "code",
   "execution_count": 6,
   "metadata": {},
   "outputs": [
    {
     "name": "stdout",
     "output_type": "stream",
     "text": [
      "Total bill = 789.0\n"
     ]
    }
   ],
   "source": [
    "u=int(input(\"Enter Unit : \"))\n",
    "\n",
    "if u>=1 and u<50:\n",
    "    s=u*2.60\n",
    "    print(\"Total bill =\",s)\n",
    "elif u>=50 and u<100:\n",
    "    s=u*3.25\n",
    "    print(\"Total bill =\",s)\n",
    "elif u>=100 and u<200:\n",
    "    s=u*5.26\n",
    "    print(\"Total bill =\",s)\n",
    "elif u>=200:\n",
    "    s=u*8.45\n",
    "    print(\"Total bill =\",s)"
   ]
  },
  {
   "cell_type": "markdown",
   "metadata": {},
   "source": [
    "### 01) WAP to read marks of five subjects. Calculate percentage and print class accordingly. \n",
    "Fail below 35 </br>\n",
    "Pass Class between 35 to 45 </br>\n",
    "Second Class</br>\n",
    "between 45 to 60</br>\n",
    "First Class between 60 to 70</br> \n",
    "Distinction if more than 70"
   ]
  },
  {
   "cell_type": "code",
   "execution_count": 8,
   "metadata": {},
   "outputs": [
    {
     "name": "stdout",
     "output_type": "stream",
     "text": [
      " total = 440 \n",
      " Percentage = 88.0\n",
      " total = 440 \n",
      " Percentage = 88.0\n",
      "Distinction\n"
     ]
    }
   ],
   "source": [
    "s1=int(input('Enter Math Mark : '))\n",
    "s2=int(input('Enter Chem Mark : '))\n",
    "s3=int(input('Enter Phy Mark : '))\n",
    "s4=int(input('Enter com. Mark : '))\n",
    "s5=int(input('Enter sanskrit Mark : '))\n",
    "total=s1+s2+s3+s4+s5\n",
    "per=total/5\n",
    "print(\" total =\",total,\"\\n\",\"Percentage =\",per)\n",
    "if per<35:\n",
    "    print(\"total =\",total,\"\\n\",\"Percentage =\",per)\n",
    "    print(\"Fail\")\n",
    "elif u>=35 and u<45:\n",
    "    print(\"total =\",total,\"\\n\",\"Percentage =\",per)\n",
    "    print(\"Pass Class\")\n",
    "elif u>=45 and u<60:\n",
    "    print(\"total =\",total,\"\\n\",\"Percentage =\",per)\n",
    "    print(\"Second Class\")\n",
    "elif u>=60 and u<70:\n",
    "    print(\"total =\",total,\"\\n\",\"Percentage =\",per)\n",
    "    print(\"First Class\")\n",
    "elif u>=70:\n",
    "    print(\"total =\",total,\"\\n\",\"Percentage =\",per)\n",
    "    print(\"Distinction\")"
   ]
  },
  {
   "cell_type": "markdown",
   "metadata": {},
   "source": [
    "### 02) WAP to find out the Maximum and Minimum number from given 4 numbers."
   ]
  },
  {
   "cell_type": "code",
   "execution_count": 11,
   "metadata": {},
   "outputs": [
    {
     "name": "stdout",
     "output_type": "stream",
     "text": [
      "5 is largest\n"
     ]
    }
   ],
   "source": [
    "a=int(input(\"Enter a Number : \"))\n",
    "b=int(input(\"Enter b Number : \"))\n",
    "c=int(input(\"Enter c Number : \"))\n",
    "d=int(input(\"Enter d Number : \"))\n",
    "if a>b and a>c and a>d:\n",
    "    print(a,\"is largest\")\n",
    "elif b>c and b>d:\n",
    "    print(b,\"is largest\")\n",
    "elif c>d:\n",
    "    print(c,\"is largest\")\n",
    "else:\n",
    "    print(d,\"is largest\")"
   ]
  },
  {
   "cell_type": "markdown",
   "metadata": {},
   "source": [
    "### 03) WAP to input an integer number and check the last digit of number is even or odd."
   ]
  },
  {
   "cell_type": "code",
   "execution_count": 13,
   "metadata": {},
   "outputs": [
    {
     "name": "stdout",
     "output_type": "stream",
     "text": [
      "Last digit is even\n"
     ]
    }
   ],
   "source": [
    "a=int(input(\"Enter a Number : \"))\n",
    "c=a%10\n",
    "if c%2==0:\n",
    "    print(\"Last digit is even\")\n",
    "else:\n",
    "    print(\"Last digit is odd\")"
   ]
  },
  {
   "cell_type": "markdown",
   "metadata": {},
   "source": [
    "### 04) WAP to determine the roots of the equation ax2+bx+c=0."
   ]
  },
  {
   "cell_type": "code",
   "execution_count": 21,
   "metadata": {},
   "outputs": [
    {
     "name": "stdout",
     "output_type": "stream",
     "text": [
      "The Roots Are (-2+0j) (-0.25+0j)\n"
     ]
    }
   ],
   "source": [
    "import cmath\n",
    "\n",
    "a=int(input(\"Enter a Number : \"))\n",
    "b=int(input(\"Enter b Number : \"))\n",
    "c=int(input(\"Enter c Number : \"))\n",
    "\n",
    "dis=(b**2)-(4*a*c)\n",
    "ans1=(-b-cmath.sqrt(dis))/(2*a)\n",
    "ans2=(-b+cmath.sqrt(dis))/(2*a)\n",
    "\n",
    "print(\"The Roots Are\",ans1,ans2)"
   ]
  }
 ],
 "metadata": {
  "kernelspec": {
   "display_name": "Python 3.11.0 64-bit",
   "language": "python",
   "name": "python3"
  },
  "language_info": {
   "codemirror_mode": {
    "name": "ipython",
    "version": 3
   },
   "file_extension": ".py",
   "mimetype": "text/x-python",
   "name": "python",
   "nbconvert_exporter": "python",
   "pygments_lexer": "ipython3",
   "version": "3.11.0"
  },
  "vscode": {
   "interpreter": {
    "hash": "56d511f526c6216a56ec98a6aa3bfbe83beb5e9fedb00e02076d55aa3bccf957"
   }
  }
 },
 "nbformat": 4,
 "nbformat_minor": 4
}
