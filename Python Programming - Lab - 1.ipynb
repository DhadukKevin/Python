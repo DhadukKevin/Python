{
 "cells": [
  {
   "cell_type": "markdown",
   "metadata": {},
   "source": [
    "<a href='https://www.darshan.ac.in/'> <img src='https://www.darshan.ac.in/Content/media/DU_Logo.svg' width=\"250\" height=\"300\"/></a>\n",
    "<pre>\n",
    "<center><b><h1>Python Programming - 2101CS405</b></center>\n",
    "<center><b><h1>Lab - 1</b></center>    \n",
    "<pre>"
   ]
  },
  {
   "cell_type": "markdown",
   "metadata": {},
   "source": [
    "### 01) WAP to print “Hello World”"
   ]
  },
  {
   "cell_type": "code",
   "execution_count": 1,
   "metadata": {},
   "outputs": [
    {
     "name": "stdout",
     "output_type": "stream",
     "text": [
      "Hello World\n"
     ]
    }
   ],
   "source": [
    "print(\"Hello World\")"
   ]
  },
  {
   "cell_type": "markdown",
   "metadata": {},
   "source": [
    "### 02) WAP to print your address i) using single print ii) using multiple print"
   ]
  },
  {
   "cell_type": "code",
   "execution_count": 2,
   "metadata": {},
   "outputs": [
    {
     "name": "stdout",
     "output_type": "stream",
     "text": [
      "\"Vallabh krupa\",Govind Green City Street No.2 \n",
      " Rolex Road, Kothariya \n",
      " Rajkot-360022\n"
     ]
    }
   ],
   "source": [
    "print('\"Vallabh krupa\",Govind Green City Street No.2 \\n Rolex Road, Kothariya \\n Rajkot-360022')"
   ]
  },
  {
   "cell_type": "code",
   "execution_count": 3,
   "metadata": {},
   "outputs": [
    {
     "name": "stdout",
     "output_type": "stream",
     "text": [
      "Vallabh krupa\",Govind Green City Street No.2\n",
      "Rolex Road, Kothariya\n",
      "Rajkot-360022\n"
     ]
    }
   ],
   "source": [
    "print('Vallabh krupa\",Govind Green City Street No.2')\n",
    "print('Rolex Road, Kothariya')\n",
    "print('Rajkot-360022')"
   ]
  },
  {
   "cell_type": "markdown",
   "metadata": {},
   "source": [
    "### 03) WAP to print addition of 2 numbers (without input function)"
   ]
  },
  {
   "cell_type": "code",
   "execution_count": 4,
   "metadata": {},
   "outputs": [
    {
     "name": "stdout",
     "output_type": "stream",
     "text": [
      "a+b =  70\n"
     ]
    }
   ],
   "source": [
    "a=20\n",
    "b=50\n",
    "c=a+b\n",
    "print(\"a+b = \",c)"
   ]
  },
  {
   "cell_type": "markdown",
   "metadata": {},
   "source": [
    "### 04) WAP to calculate and print average of 2 numbers (without input function)"
   ]
  },
  {
   "cell_type": "code",
   "execution_count": 5,
   "metadata": {},
   "outputs": [
    {
     "name": "stdout",
     "output_type": "stream",
     "text": [
      "avg =  60.0\n"
     ]
    }
   ],
   "source": [
    "a=50\n",
    "b=70\n",
    "avg=(a+b)/2\n",
    "print(\"avg = \",avg)"
   ]
  },
  {
   "cell_type": "markdown",
   "metadata": {},
   "source": [
    "### 05) WAP to add two number entered by user."
   ]
  },
  {
   "cell_type": "code",
   "execution_count": 6,
   "metadata": {},
   "outputs": [
    {
     "name": "stdout",
     "output_type": "stream",
     "text": [
      "Enter Number A : 2\n",
      "Enter Number B : 2\n",
      "a + b =  4\n"
     ]
    }
   ],
   "source": [
    "a=int(input('Enter Number A : '))\n",
    "b=int(input('Enter Number B : '))\n",
    "c=a+b\n",
    "print('a + b = ',c)"
   ]
  },
  {
   "cell_type": "markdown",
   "metadata": {},
   "source": [
    "### 06) WAP to calculate simple interest."
   ]
  },
  {
   "cell_type": "code",
   "execution_count": 8,
   "metadata": {},
   "outputs": [
    {
     "name": "stdout",
     "output_type": "stream",
     "text": [
      "Enter Number P : 10000\n",
      "Enter Number R : 10\n",
      "Enter Number N : 2\n",
      "Interest =  2000.0\n"
     ]
    }
   ],
   "source": [
    "\n",
    "p=int(input('Enter Number P : '))\n",
    "r=int(input('Enter Number R : '))\n",
    "n=int(input('Enter Number N : '))\n",
    "intrest=(p*r*n)/100\n",
    "print(\"Interest = \",intrest)"
   ]
  },
  {
   "cell_type": "markdown",
   "metadata": {},
   "source": [
    "### 07) WAP Calculate Area and Circumfrence of Circle"
   ]
  },
  {
   "cell_type": "code",
   "execution_count": 13,
   "metadata": {},
   "outputs": [
    {
     "name": "stdout",
     "output_type": "stream",
     "text": [
      "Enter Radius : 2\n",
      " area =  12.56 \n",
      " Circumfrence =  12.56\n"
     ]
    }
   ],
   "source": [
    "r=int(input('Enter Radius : '))\n",
    "area=(3.14*r*r)\n",
    "circum=(2*3.14*r)\n",
    "print(\" area = \",area,\"\\n\",\"Circumfrence = \",circum)"
   ]
  },
  {
   "cell_type": "markdown",
   "metadata": {},
   "source": [
    "### 08) WAP to print Multiplication table of given number without using loops."
   ]
  },
  {
   "cell_type": "code",
   "execution_count": 29,
   "metadata": {},
   "outputs": [
    {
     "name": "stdout",
     "output_type": "stream",
     "text": [
      "Enter Number :2\n",
      "2 x 1 = 2\n",
      "2 x 2 = 4\n",
      "2 x 3 = 6\n",
      "2 x 4 = 8\n",
      "2 x 5 = 10\n",
      "2 x 6 = 12\n",
      "2 x 7 = 14\n",
      "2 x 8 = 16\n",
      "2 x 9 = 18\n",
      "2 x 10 = 20\n"
     ]
    }
   ],
   "source": [
    "n=int(input('Enter Number :'))\n",
    "for i in range(1,11):\n",
    "    print(n, 'x', i, '=', n*i)"
   ]
  },
  {
   "cell_type": "markdown",
   "metadata": {},
   "source": [
    "### 09) WAP to calculate Area of Triangle (hint: a = h * b * 0.5)"
   ]
  },
  {
   "cell_type": "code",
   "execution_count": 14,
   "metadata": {},
   "outputs": [
    {
     "name": "stdout",
     "output_type": "stream",
     "text": [
      "Enter Base : 2\n",
      "Enter Hight : 2\n",
      "area =  2.0\n"
     ]
    }
   ],
   "source": [
    "b=int(input('Enter Base : '))\n",
    "h=int(input('Enter Hight : '))\n",
    "a=(h*b*0.5)\n",
    "print(\"area = \",a)"
   ]
  },
  {
   "cell_type": "markdown",
   "metadata": {},
   "source": [
    "### 10) WAP to convert degree to Fahrenheit and vice versa."
   ]
  },
  {
   "cell_type": "code",
   "execution_count": 15,
   "metadata": {},
   "outputs": [
    {
     "name": "stdout",
     "output_type": "stream",
     "text": [
      "Enter degree : 0\n",
      "0 *C = 32.0 F\n"
     ]
    }
   ],
   "source": [
    "c=int(input('Enter degree : '))\n",
    "f=(c*9/5)+32\n",
    "print(c,\"*C\",\"=\",f,\"F\")"
   ]
  },
  {
   "cell_type": "code",
   "execution_count": 16,
   "metadata": {},
   "outputs": [
    {
     "name": "stdout",
     "output_type": "stream",
     "text": [
      "Enter Fahrenheit :32\n",
      "32 F = 0.0 *C\n"
     ]
    }
   ],
   "source": [
    "f=int(input('Enter Fahrenheit :'))\n",
    "c=(f-32)*5/9\n",
    "print(f,\"F\",\"=\",c,\"*C\")"
   ]
  },
  {
   "cell_type": "markdown",
   "metadata": {},
   "source": [
    "### 11) WAP to calculate total marks and Percentage."
   ]
  },
  {
   "cell_type": "code",
   "execution_count": 18,
   "metadata": {},
   "outputs": [
    {
     "name": "stdout",
     "output_type": "stream",
     "text": [
      "Enter Math Mark : 100\n",
      "Enter Chem Mark : 100\n",
      "Enter Phy Mark : 100\n",
      " total = 300 \n",
      " Percentage = 100.0\n"
     ]
    }
   ],
   "source": [
    "s1=int(input('Enter Math Mark : '))\n",
    "s2=int(input('Enter Chem Mark : '))\n",
    "s3=int(input('Enter Phy Mark : '))\n",
    "total=s1+s2+s3\n",
    "per=total/3\n",
    "print(\" total =\",total,\"\\n\",\"Percentage =\",per)"
   ]
  },
  {
   "cell_type": "markdown",
   "metadata": {},
   "source": [
    "### 12) Compute distance between two points taking input from the user (Pythagorean Theorem)."
   ]
  },
  {
   "cell_type": "code",
   "execution_count": 34,
   "metadata": {},
   "outputs": [
    {
     "name": "stdout",
     "output_type": "stream",
     "text": [
      "Enter X1 :4\n",
      "Enter X2 :0\n",
      "Enter Y1 :6\n",
      "Enter Y2 :6\n",
      "Distance = 4.0\n"
     ]
    }
   ],
   "source": [
    "import math\n",
    "x1=int(input('Enter X1 :'))\n",
    "x2=int(input('Enter X2 :'))\n",
    "y1=int(input('Enter Y1 :'))\n",
    "y2=int(input('Enter Y2 :'))\n",
    "dis = math.sqrt( ((x1-x2)**2)+((y1-y2)**2) )\n",
    "print(\"Distance =\",dis)"
   ]
  },
  {
   "cell_type": "markdown",
   "metadata": {},
   "source": [
    "### 13) WAP to convert seconds into hours, minutes & seconds and print in HH:MM:SS\n",
    "[e.g. 10000 seconds mean 2:46:40 (2 Hours, 46 Minutes, 40Seconds)]"
   ]
  },
  {
   "cell_type": "code",
   "execution_count": 22,
   "metadata": {},
   "outputs": [
    {
     "name": "stdout",
     "output_type": "stream",
     "text": [
      "Enter Seconds : 10000\n",
      "2 : 46 : 40\n"
     ]
    }
   ],
   "source": [
    "s=int(input('Enter Seconds : '))\n",
    "h=s//3600\n",
    "m=(s%3600)//60\n",
    "s=(s%3600)%60\n",
    "print(h,\":\",m,\":\",s)"
   ]
  },
  {
   "cell_type": "markdown",
   "metadata": {},
   "source": [
    "### 14) WAP to enter distance into kilometer and convert it into meter, feet,inches, and centimeter"
   ]
  },
  {
   "cell_type": "code",
   "execution_count": 28,
   "metadata": {},
   "outputs": [
    {
     "name": "stdout",
     "output_type": "stream",
     "text": [
      "Enter Kilometer : 1\n",
      " 1 kilometer = 1000 meter \n",
      " 1 kilometer = 3281 feet \n",
      " 1 kilometer = 39370 inch \n",
      " 1 kilometer = 100000 centimeter\n"
     ]
    }
   ],
   "source": [
    "k=int(input('Enter Kilometer : '))\n",
    "m=k*1000\n",
    "f=k*3281\n",
    "i=k*39370\n",
    "c=k*100000\n",
    "print(\"\",k,\"kilometer =\",m,\"meter\",\"\\n\",k,\"kilometer =\",f,\"feet\",\"\\n\",k,\"kilometer =\",i,\"inch\",\"\\n\",k,\"kilometer =\",c,\"centimeter\")"
   ]
  }
 ],
 "metadata": {
  "kernelspec": {
   "display_name": "Python 3 (ipykernel)",
   "language": "python",
   "name": "python3"
  },
  "language_info": {
   "codemirror_mode": {
    "name": "ipython",
    "version": 3
   },
   "file_extension": ".py",
   "mimetype": "text/x-python",
   "name": "python",
   "nbconvert_exporter": "python",
   "pygments_lexer": "ipython3",
   "version": "3.9.13"
  }
 },
 "nbformat": 4,
 "nbformat_minor": 4
}
