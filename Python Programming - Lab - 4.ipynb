{
 "cells": [
  {
   "cell_type": "markdown",
   "metadata": {},
   "source": [
    "\n",
    "<a href='https://www.darshan.ac.in/'> <img src='https://www.darshan.ac.in/Content/media/DU_Logo.svg' width=\"250\" height=\"300\"/></a>\n",
    "<pre>\n",
    "<center><b><h1>Python Programming - 2101CS405</b></center>\n",
    "<center><b><h1>Lab - 4</b></center>    \n",
    "<pre>"
   ]
  },
  {
   "cell_type": "markdown",
   "metadata": {},
   "source": [
    "# String"
   ]
  },
  {
   "cell_type": "markdown",
   "metadata": {},
   "source": [
    "### 01) WAP to check given string is palindrome or not."
   ]
  },
  {
   "cell_type": "code",
   "execution_count": 2,
   "metadata": {},
   "outputs": [
    {
     "name": "stdout",
     "output_type": "stream",
     "text": [
      "yes\n"
     ]
    }
   ],
   "source": [
    "x=input(\"Enter String\")\n",
    "s=\"\"\n",
    "for i in x:\n",
    "    s=i+s\n",
    "if x==s:\n",
    "    print(\"yes\")\n",
    "else:\n",
    "    print(\"no\")"
   ]
  },
  {
   "cell_type": "markdown",
   "metadata": {},
   "source": [
    "### 02) WAP to reverse the words in given string."
   ]
  },
  {
   "cell_type": "code",
   "execution_count": 3,
   "metadata": {},
   "outputs": [
    {
     "name": "stdout",
     "output_type": "stream",
     "text": [
      "reversed = cba\n"
     ]
    }
   ],
   "source": [
    "x=input(\"Enter String\")\n",
    "s=\"\"\n",
    "for i in x:\n",
    "    s=i+s\n",
    "print(\"reversed =\",s)"
   ]
  },
  {
   "cell_type": "markdown",
   "metadata": {},
   "source": [
    "### 03) WAP to remove ith character from given string"
   ]
  },
  {
   "cell_type": "code",
   "execution_count": 9,
   "metadata": {},
   "outputs": [
    {
     "name": "stdout",
     "output_type": "stream",
     "text": [
      "kein\n"
     ]
    }
   ],
   "source": [
    "x=input(\"Enter String\")\n",
    "n=int(input(\"Enter I\"))\n",
    "s=\"\"\n",
    "c=0\n",
    "for i in x:\n",
    "    if c==n:\n",
    "        s=s\n",
    "    else:\n",
    "        s=s+i\n",
    "    c+=1\n",
    "print(s)"
   ]
  },
  {
   "cell_type": "markdown",
   "metadata": {},
   "source": [
    "### 04) WAP to find length of String without using len function."
   ]
  },
  {
   "cell_type": "code",
   "execution_count": 10,
   "metadata": {},
   "outputs": [
    {
     "name": "stdout",
     "output_type": "stream",
     "text": [
      "length = 5\n"
     ]
    }
   ],
   "source": [
    "x=input(\"Enter String\")\n",
    "c=0\n",
    "for i in x:\n",
    "    c+=1\n",
    "print(\"length =\",c)"
   ]
  },
  {
   "cell_type": "markdown",
   "metadata": {},
   "source": [
    "### 05) WAP to print even length word in string."
   ]
  },
  {
   "cell_type": "code",
   "execution_count": 14,
   "metadata": {},
   "outputs": [
    {
     "name": "stdout",
     "output_type": "stream",
     "text": [
      "['hii', 'i', 'am', 'kevin']\n"
     ]
    }
   ],
   "source": [
    "x=input(\"Enter String\")\n",
    "s=x.split(\" \")\n",
    "for i in s:\n",
    "    if len(i)%2==0:\n",
    "        print(i)"
   ]
  },
  {
   "cell_type": "markdown",
   "metadata": {},
   "source": [
    "### 06) WAP to count numbers of vowels in given string."
   ]
  },
  {
   "cell_type": "code",
   "execution_count": 15,
   "metadata": {},
   "outputs": [
    {
     "name": "stdout",
     "output_type": "stream",
     "text": [
      "number of vowel = 2\n"
     ]
    }
   ],
   "source": [
    "x=input(\"Enter String\")\n",
    "s=x.split(\" \")\n",
    "c=0\n",
    "for i in s:\n",
    "    for j in i:\n",
    "        if j=='a' or j=='e' or j=='i' or j=='o' or j=='u':\n",
    "            c+=1\n",
    "print(\"number of vowel =\",c)"
   ]
  },
  {
   "cell_type": "markdown",
   "metadata": {},
   "source": [
    "### 07) WAP to convert given array to string."
   ]
  },
  {
   "cell_type": "code",
   "execution_count": 24,
   "metadata": {},
   "outputs": [
    {
     "name": "stdout",
     "output_type": "stream",
     "text": [
      "hii 10 am kevin \n"
     ]
    }
   ],
   "source": [
    "s=['hii',10,'am','kevin']\n",
    "sr=\"\"\n",
    "for i in s:\n",
    "    sr =sr+\"\".join(str(i))\n",
    "    sr=sr+\" \"\n",
    "print(sr)"
   ]
  },
  {
   "cell_type": "markdown",
   "metadata": {},
   "source": [
    "### 01) WAP to find out duplicate characters in given string."
   ]
  },
  {
   "cell_type": "code",
   "execution_count": 31,
   "metadata": {},
   "outputs": [
    {
     "name": "stdout",
     "output_type": "stream",
     "text": [
      "The duplicate characters are ['k']\n"
     ]
    }
   ],
   "source": [
    "string = input(\"Enter String : \")\n",
    "dup=[]\n",
    "for ch in string:\n",
    "  if ch==' ':\n",
    "    continue\n",
    "  if string.count(ch)>1 and ch not in dup:\n",
    "    dup.append(ch)\n",
    "print('The duplicate characters are {}'.format(dup))"
   ]
  },
  {
   "cell_type": "markdown",
   "metadata": {},
   "source": [
    "### 02) WAP to capitalize the first and last character of each word in a string."
   ]
  },
  {
   "cell_type": "code",
   "execution_count": 32,
   "metadata": {},
   "outputs": [
    {
     "name": "stdout",
     "output_type": "stream",
     "text": [
      "String before: hii , may name is kevin\n",
      "String after: HiI ,, MaY NamE IS KeviN\n"
     ]
    }
   ],
   "source": [
    "s = input(\"Enter String : \")\n",
    "print(\"String before:\", s)\n",
    "a = s.split()\n",
    "res = []\n",
    "for i in a:\n",
    "    x = i[0].upper()+i[1:len(i)-1]+i[-1].upper()\n",
    "    res.append(x)\n",
    "res = \" \".join(res)\n",
    "print(\"String after:\", res)"
   ]
  },
  {
   "cell_type": "markdown",
   "metadata": {},
   "source": [
    "### 03) WAP to find Maximum frequency character in String."
   ]
  },
  {
   "cell_type": "code",
   "execution_count": 60,
   "metadata": {},
   "outputs": [
    {
     "name": "stdout",
     "output_type": "stream",
     "text": [
      "e\n"
     ]
    }
   ],
   "source": [
    "s = input(\"Enter String : \")\n",
    "res=[]\n",
    "for i in s:\n",
    "    if i not in res:\n",
    "        n=s.count(i)\n",
    "        if n>=2:\n",
    "            res.append(n)\n",
    "a=max(res)\n",
    "for i in s:\n",
    "    if s.count(i)==a:\n",
    "        print(i)\n",
    "        break\n",
    "    "
   ]
  },
  {
   "cell_type": "markdown",
   "metadata": {},
   "source": [
    "### 04) WAP to find Minimum frequency character in String."
   ]
  },
  {
   "cell_type": "code",
   "execution_count": 58,
   "metadata": {},
   "outputs": [
    {
     "name": "stdout",
     "output_type": "stream",
     "text": [
      "m\n",
      "v\n"
     ]
    }
   ],
   "source": [
    "s = input(\"Enter String : \")\n",
    "res=[]\n",
    "for i in s:\n",
    "    if i not in res:\n",
    "        n=s.count(i)\n",
    "        res.append(n)\n",
    "res.sort()\n",
    "a=res[0]\n",
    "for i in s:\n",
    "    if s.count(i)==a:\n",
    "        print(i)"
   ]
  },
  {
   "cell_type": "markdown",
   "metadata": {},
   "source": [
    "### 05) WAP to check if a given string is binary string or not"
   ]
  },
  {
   "cell_type": "code",
   "execution_count": 13,
   "metadata": {},
   "outputs": [
    {
     "name": "stdout",
     "output_type": "stream",
     "text": [
      "no\n"
     ]
    }
   ],
   "source": [
    "s = input(\"Enter String : \")\n",
    "for i in s:\n",
    "    if i=='0' or i=='1':\n",
    "        continue\n",
    "    else:\n",
    "        print(\"no\")\n",
    "        break\n",
    "else:\n",
    "    print(\"yes\")"
   ]
  }
 ],
 "metadata": {
  "kernelspec": {
   "display_name": "Python 3",
   "language": "python",
   "name": "python3"
  },
  "language_info": {
   "codemirror_mode": {
    "name": "ipython",
    "version": 3
   },
   "file_extension": ".py",
   "mimetype": "text/x-python",
   "name": "python",
   "nbconvert_exporter": "python",
   "pygments_lexer": "ipython3",
   "version": "3.11.0 (main, Oct 24 2022, 18:26:48) [MSC v.1933 64 bit (AMD64)]"
  },
  "vscode": {
   "interpreter": {
    "hash": "56d511f526c6216a56ec98a6aa3bfbe83beb5e9fedb00e02076d55aa3bccf957"
   }
  }
 },
 "nbformat": 4,
 "nbformat_minor": 4
}
