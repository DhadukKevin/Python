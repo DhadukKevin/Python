{
 "cells": [
  {
   "cell_type": "markdown",
   "metadata": {},
   "source": [
    "<a href='https://www.darshan.ac.in/'> <img src='https://www.darshan.ac.in/Content/media/DU_Logo.svg' width=\"250\" height=\"300\"/></a>\n",
    "<pre>\n",
    "<center><b><h1>Python Programming - 2101CS405</b></center>\n",
    "<center><b><h1>Lab - 9</b></center>    \n",
    "<pre>"
   ]
  },
  {
   "cell_type": "markdown",
   "metadata": {},
   "source": [
    "# Exception Handling"
   ]
  },
  {
   "cell_type": "markdown",
   "metadata": {},
   "source": [
    "# A"
   ]
  },
  {
   "cell_type": "markdown",
   "metadata": {},
   "source": [
    "### 01) WAP to handle divide by zero exception."
   ]
  },
  {
   "cell_type": "code",
   "execution_count": 3,
   "metadata": {},
   "outputs": [
    {
     "name": "stdout",
     "output_type": "stream",
     "text": [
      "division by zero\n"
     ]
    }
   ],
   "source": [
    "a=int(input(\"Enter A:\"))\n",
    "b=int(input(\"Enter B:\"))\n",
    "try:\n",
    "    c=a/b\n",
    "    print(c)\n",
    "except:\n",
    "    print(\"division by zero\")"
   ]
  },
  {
   "cell_type": "markdown",
   "metadata": {},
   "source": [
    "### 02)  Write a Python program that inputs a number and generates an error message if it is not a number."
   ]
  },
  {
   "cell_type": "code",
   "execution_count": 13,
   "metadata": {},
   "outputs": [],
   "source": [
    "try:\n",
    "    a=int(input(\"Enter A:\"))\n",
    "except:\n",
    "    print(\"Value Error\")"
   ]
  },
  {
   "cell_type": "markdown",
   "metadata": {},
   "source": [
    "### 03) WAP to handle file not found Exception"
   ]
  },
  {
   "cell_type": "code",
   "execution_count": 14,
   "metadata": {},
   "outputs": [
    {
     "name": "stdout",
     "output_type": "stream",
     "text": [
      "FileNotFoundError Error\n"
     ]
    }
   ],
   "source": [
    "try:\n",
    "    f=open(\"f1.txt\",'r')\n",
    "except:\n",
    "    print(\"FileNotFoundError Error\")"
   ]
  },
  {
   "cell_type": "markdown",
   "metadata": {},
   "source": [
    "### 04) WAP to handle type Exception."
   ]
  },
  {
   "cell_type": "code",
   "execution_count": 19,
   "metadata": {},
   "outputs": [
    {
     "name": "stdout",
     "output_type": "stream",
     "text": [
      "Type Error\n"
     ]
    }
   ],
   "source": [
    "a=int(input(\"Enter A:\"))\n",
    "b=input(\"Enter B:\")\n",
    "try:\n",
    "    c=a+b\n",
    "    print(c)\n",
    "except:\n",
    "    print(\"Type Error\")"
   ]
  },
  {
   "cell_type": "markdown",
   "metadata": {},
   "source": [
    "### 05) WAP to demonstrate valueError and indexError with example."
   ]
  },
  {
   "cell_type": "code",
   "execution_count": 32,
   "metadata": {},
   "outputs": [
    {
     "name": "stdout",
     "output_type": "stream",
     "text": [
      "4\n"
     ]
    }
   ],
   "source": [
    "#Index Error\n",
    "ls=[1,32,3,4,3]\n",
    "try:\n",
    "    a=int(input(\"Enter Index To display list Member\"))\n",
    "    print(ls[a])\n",
    "except IndexError:\n",
    "    print(\"IndexError\")   "
   ]
  },
  {
   "cell_type": "code",
   "execution_count": 37,
   "metadata": {},
   "outputs": [
    {
     "name": "stdout",
     "output_type": "stream",
     "text": [
      "ValueError\n"
     ]
    }
   ],
   "source": [
    "#Value Error\n",
    "import math\n",
    "a=int(input(\"Enter Number\"))\n",
    "try:\n",
    "    s=math.sqrt(a)\n",
    "    print(s)\n",
    "except ValueError:\n",
    "    print(\"ValueError\")"
   ]
  },
  {
   "cell_type": "markdown",
   "metadata": {},
   "source": [
    "### 06) WAP to domonstrate else  and finally block."
   ]
  },
  {
   "cell_type": "code",
   "execution_count": 41,
   "metadata": {},
   "outputs": [
    {
     "name": "stdout",
     "output_type": "stream",
     "text": [
      "ValueError\n",
      "Program Terminated\n"
     ]
    }
   ],
   "source": [
    "import math\n",
    "a=int(input(\"Enter Number\"))\n",
    "try:\n",
    "    s=math.sqrt(a)\n",
    "except ValueError:\n",
    "    print(\"ValueError\")\n",
    "else:\n",
    "    print(s)\n",
    "finally:\n",
    "    print(\"Program Terminated\")"
   ]
  },
  {
   "cell_type": "markdown",
   "metadata": {},
   "source": [
    "### 07) Create a short program that prompts the user for a list of grades separated by commas. Split the string into individual grades and use a list comprehension to convert each string to an integer. You should use a try statement to inform the user when the values they entered cannot be converted."
   ]
  },
  {
   "cell_type": "code",
   "execution_count": 46,
   "metadata": {},
   "outputs": [
    {
     "name": "stdout",
     "output_type": "stream",
     "text": [
      "[1, 2, 3, 4, 5]\n"
     ]
    }
   ],
   "source": [
    "s=input(\"Enter Marks In comma Seprated Value\")\n",
    "ls=s.split(',')\n",
    "try:\n",
    "    ls=[int(i) for i in ls]\n",
    "except:\n",
    "    print(\"Values Enterd By You Cannot Be Converted\")\n",
    "else:\n",
    "    print(ls)"
   ]
  },
  {
   "cell_type": "markdown",
   "metadata": {},
   "source": [
    "# B"
   ]
  },
  {
   "cell_type": "markdown",
   "metadata": {},
   "source": [
    "### 01) WAP to Raising User Generated Exception."
   ]
  },
  {
   "cell_type": "code",
   "execution_count": 66,
   "metadata": {},
   "outputs": [
    {
     "name": "stdout",
     "output_type": "stream",
     "text": [
      "division by zero\n"
     ]
    }
   ],
   "source": [
    "a=int(input(\"Enter A:\"))\n",
    "b=int(input(\"Enter B:\"))\n",
    "try:\n",
    "    if b==0:\n",
    "        raise ZeroDivisionError\n",
    "    else:\n",
    "        c=a/b\n",
    "except ZeroDivisionError:\n",
    "    print(\"division by zero\")"
   ]
  },
  {
   "cell_type": "markdown",
   "metadata": {},
   "source": [
    "### 02) WAP to raise your custom Exception."
   ]
  },
  {
   "cell_type": "code",
   "execution_count": 52,
   "metadata": {},
   "outputs": [
    {
     "name": "stdout",
     "output_type": "stream",
     "text": [
      "0.3333333333333333\n"
     ]
    }
   ],
   "source": [
    "class FiveDivisionError(Exception):\n",
    "    def __init__(self, arg):\n",
    "        self.arg=arg\n",
    "\n",
    "a=int(input(\"Enter Number :\"))\n",
    "b=int(input(\"Enter Number :\"))\n",
    "try:\n",
    "    if b==5:\n",
    "        raise FiveDivisionError(\"Division By Five\")\n",
    "except FiveDivisionError as e:\n",
    "    print(e.args[0])\n",
    "else:\n",
    "    print(a/b)\n"
   ]
  },
  {
   "cell_type": "code",
   "execution_count": 61,
   "metadata": {},
   "outputs": [
    {
     "name": "stdout",
     "output_type": "stream",
     "text": [
      "1.5\n"
     ]
    }
   ],
   "source": [
    "class OddNumberError(Exception):\n",
    "    \"Number Is Odd\"\n",
    "    def __init__(self, arg):\n",
    "        self.arg=arg\n",
    "\n",
    "a=int(input(\"Enter Number :\"))\n",
    "b=int(input(\"Enter Number :\"))\n",
    "try:\n",
    "    if a%2==0 and b%2==0 and a>b:\n",
    "        c=a/b\n",
    "    else:\n",
    "        raise OddNumberError(\"Number Is Odd\")\n",
    "except OddNumberError as e:\n",
    "    print(e)\n",
    "else:\n",
    "    print(c)\n"
   ]
  }
 ],
 "metadata": {
  "kernelspec": {
   "display_name": "Python 3",
   "language": "python",
   "name": "python3"
  },
  "language_info": {
   "codemirror_mode": {
    "name": "ipython",
    "version": 3
   },
   "file_extension": ".py",
   "mimetype": "text/x-python",
   "name": "python",
   "nbconvert_exporter": "python",
   "pygments_lexer": "ipython3",
   "version": "3.11.0"
  },
  "vscode": {
   "interpreter": {
    "hash": "56d511f526c6216a56ec98a6aa3bfbe83beb5e9fedb00e02076d55aa3bccf957"
   }
  }
 },
 "nbformat": 4,
 "nbformat_minor": 4
}
